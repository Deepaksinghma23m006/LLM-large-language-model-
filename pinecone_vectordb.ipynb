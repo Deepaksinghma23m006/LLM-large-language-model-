{
  "nbformat": 4,
  "nbformat_minor": 0,
  "metadata": {
    "colab": {
      "provenance": []
    },
    "kernelspec": {
      "name": "python3",
      "display_name": "Python 3"
    },
    "language_info": {
      "name": "python"
    }
  },
  "cells": [
    {
      "cell_type": "code",
      "execution_count": 1,
      "metadata": {
        "colab": {
          "base_uri": "https://localhost:8080/"
        },
        "id": "Hxiij0vrLgs5",
        "outputId": "f419a543-5264-4ff6-df13-f86b40507a22"
      },
      "outputs": [
        {
          "output_type": "stream",
          "name": "stdout",
          "text": [
            "Collecting langchain\n",
            "  Downloading langchain-0.2.3-py3-none-any.whl (974 kB)\n",
            "\u001b[2K     \u001b[90m━━━━━━━━━━━━━━━━━━━━━━━━━━━━━━━━━━━━━━━━\u001b[0m \u001b[32m974.0/974.0 kB\u001b[0m \u001b[31m9.2 MB/s\u001b[0m eta \u001b[36m0:00:00\u001b[0m\n",
            "\u001b[?25hRequirement already satisfied: PyYAML>=5.3 in /usr/local/lib/python3.10/dist-packages (from langchain) (6.0.1)\n",
            "Requirement already satisfied: SQLAlchemy<3,>=1.4 in /usr/local/lib/python3.10/dist-packages (from langchain) (2.0.30)\n",
            "Requirement already satisfied: aiohttp<4.0.0,>=3.8.3 in /usr/local/lib/python3.10/dist-packages (from langchain) (3.9.5)\n",
            "Requirement already satisfied: async-timeout<5.0.0,>=4.0.0 in /usr/local/lib/python3.10/dist-packages (from langchain) (4.0.3)\n",
            "Collecting langchain-core<0.3.0,>=0.2.0 (from langchain)\n",
            "  Downloading langchain_core-0.2.5-py3-none-any.whl (314 kB)\n",
            "\u001b[2K     \u001b[90m━━━━━━━━━━━━━━━━━━━━━━━━━━━━━━━━━━━━━━━━\u001b[0m \u001b[32m314.7/314.7 kB\u001b[0m \u001b[31m13.1 MB/s\u001b[0m eta \u001b[36m0:00:00\u001b[0m\n",
            "\u001b[?25hCollecting langchain-text-splitters<0.3.0,>=0.2.0 (from langchain)\n",
            "  Downloading langchain_text_splitters-0.2.1-py3-none-any.whl (23 kB)\n",
            "Collecting langsmith<0.2.0,>=0.1.17 (from langchain)\n",
            "  Downloading langsmith-0.1.77-py3-none-any.whl (125 kB)\n",
            "\u001b[2K     \u001b[90m━━━━━━━━━━━━━━━━━━━━━━━━━━━━━━━━━━━━━━━━\u001b[0m \u001b[32m125.2/125.2 kB\u001b[0m \u001b[31m6.9 MB/s\u001b[0m eta \u001b[36m0:00:00\u001b[0m\n",
            "\u001b[?25hRequirement already satisfied: numpy<2,>=1 in /usr/local/lib/python3.10/dist-packages (from langchain) (1.25.2)\n",
            "Requirement already satisfied: pydantic<3,>=1 in /usr/local/lib/python3.10/dist-packages (from langchain) (2.7.3)\n",
            "Requirement already satisfied: requests<3,>=2 in /usr/local/lib/python3.10/dist-packages (from langchain) (2.31.0)\n",
            "Requirement already satisfied: tenacity<9.0.0,>=8.1.0 in /usr/local/lib/python3.10/dist-packages (from langchain) (8.3.0)\n",
            "Requirement already satisfied: aiosignal>=1.1.2 in /usr/local/lib/python3.10/dist-packages (from aiohttp<4.0.0,>=3.8.3->langchain) (1.3.1)\n",
            "Requirement already satisfied: attrs>=17.3.0 in /usr/local/lib/python3.10/dist-packages (from aiohttp<4.0.0,>=3.8.3->langchain) (23.2.0)\n",
            "Requirement already satisfied: frozenlist>=1.1.1 in /usr/local/lib/python3.10/dist-packages (from aiohttp<4.0.0,>=3.8.3->langchain) (1.4.1)\n",
            "Requirement already satisfied: multidict<7.0,>=4.5 in /usr/local/lib/python3.10/dist-packages (from aiohttp<4.0.0,>=3.8.3->langchain) (6.0.5)\n",
            "Requirement already satisfied: yarl<2.0,>=1.0 in /usr/local/lib/python3.10/dist-packages (from aiohttp<4.0.0,>=3.8.3->langchain) (1.9.4)\n",
            "Collecting jsonpatch<2.0,>=1.33 (from langchain-core<0.3.0,>=0.2.0->langchain)\n",
            "  Downloading jsonpatch-1.33-py2.py3-none-any.whl (12 kB)\n",
            "Collecting packaging<24.0,>=23.2 (from langchain-core<0.3.0,>=0.2.0->langchain)\n",
            "  Downloading packaging-23.2-py3-none-any.whl (53 kB)\n",
            "\u001b[2K     \u001b[90m━━━━━━━━━━━━━━━━━━━━━━━━━━━━━━━━━━━━━━━━\u001b[0m \u001b[32m53.0/53.0 kB\u001b[0m \u001b[31m5.1 MB/s\u001b[0m eta \u001b[36m0:00:00\u001b[0m\n",
            "\u001b[?25hCollecting orjson<4.0.0,>=3.9.14 (from langsmith<0.2.0,>=0.1.17->langchain)\n",
            "  Downloading orjson-3.10.4-cp310-cp310-manylinux_2_17_x86_64.manylinux2014_x86_64.whl (142 kB)\n",
            "\u001b[2K     \u001b[90m━━━━━━━━━━━━━━━━━━━━━━━━━━━━━━━━━━━━━━━━\u001b[0m \u001b[32m142.7/142.7 kB\u001b[0m \u001b[31m3.2 MB/s\u001b[0m eta \u001b[36m0:00:00\u001b[0m\n",
            "\u001b[?25hRequirement already satisfied: annotated-types>=0.4.0 in /usr/local/lib/python3.10/dist-packages (from pydantic<3,>=1->langchain) (0.7.0)\n",
            "Requirement already satisfied: pydantic-core==2.18.4 in /usr/local/lib/python3.10/dist-packages (from pydantic<3,>=1->langchain) (2.18.4)\n",
            "Requirement already satisfied: typing-extensions>=4.6.1 in /usr/local/lib/python3.10/dist-packages (from pydantic<3,>=1->langchain) (4.12.2)\n",
            "Requirement already satisfied: charset-normalizer<4,>=2 in /usr/local/lib/python3.10/dist-packages (from requests<3,>=2->langchain) (3.3.2)\n",
            "Requirement already satisfied: idna<4,>=2.5 in /usr/local/lib/python3.10/dist-packages (from requests<3,>=2->langchain) (3.7)\n",
            "Requirement already satisfied: urllib3<3,>=1.21.1 in /usr/local/lib/python3.10/dist-packages (from requests<3,>=2->langchain) (2.0.7)\n",
            "Requirement already satisfied: certifi>=2017.4.17 in /usr/local/lib/python3.10/dist-packages (from requests<3,>=2->langchain) (2024.6.2)\n",
            "Requirement already satisfied: greenlet!=0.4.17 in /usr/local/lib/python3.10/dist-packages (from SQLAlchemy<3,>=1.4->langchain) (3.0.3)\n",
            "Collecting jsonpointer>=1.9 (from jsonpatch<2.0,>=1.33->langchain-core<0.3.0,>=0.2.0->langchain)\n",
            "  Downloading jsonpointer-3.0.0-py2.py3-none-any.whl (7.6 kB)\n",
            "Installing collected packages: packaging, orjson, jsonpointer, jsonpatch, langsmith, langchain-core, langchain-text-splitters, langchain\n",
            "  Attempting uninstall: packaging\n",
            "    Found existing installation: packaging 24.1\n",
            "    Uninstalling packaging-24.1:\n",
            "      Successfully uninstalled packaging-24.1\n",
            "Successfully installed jsonpatch-1.33 jsonpointer-3.0.0 langchain-0.2.3 langchain-core-0.2.5 langchain-text-splitters-0.2.1 langsmith-0.1.77 orjson-3.10.4 packaging-23.2\n",
            "Collecting pinecone-client\n",
            "  Downloading pinecone_client-4.1.1-py3-none-any.whl (216 kB)\n",
            "\u001b[2K     \u001b[90m━━━━━━━━━━━━━━━━━━━━━━━━━━━━━━━━━━━━━━━━\u001b[0m \u001b[32m216.2/216.2 kB\u001b[0m \u001b[31m4.9 MB/s\u001b[0m eta \u001b[36m0:00:00\u001b[0m\n",
            "\u001b[?25hRequirement already satisfied: certifi>=2019.11.17 in /usr/local/lib/python3.10/dist-packages (from pinecone-client) (2024.6.2)\n",
            "Collecting pinecone-plugin-interface<0.0.8,>=0.0.7 (from pinecone-client)\n",
            "  Downloading pinecone_plugin_interface-0.0.7-py3-none-any.whl (6.2 kB)\n",
            "Requirement already satisfied: tqdm>=4.64.1 in /usr/local/lib/python3.10/dist-packages (from pinecone-client) (4.66.4)\n",
            "Requirement already satisfied: typing-extensions>=3.7.4 in /usr/local/lib/python3.10/dist-packages (from pinecone-client) (4.12.2)\n",
            "Requirement already satisfied: urllib3>=1.26.0 in /usr/local/lib/python3.10/dist-packages (from pinecone-client) (2.0.7)\n",
            "Installing collected packages: pinecone-plugin-interface, pinecone-client\n",
            "Successfully installed pinecone-client-4.1.1 pinecone-plugin-interface-0.0.7\n",
            "Collecting pypdf\n",
            "  Downloading pypdf-4.2.0-py3-none-any.whl (290 kB)\n",
            "\u001b[2K     \u001b[90m━━━━━━━━━━━━━━━━━━━━━━━━━━━━━━━━━━━━━━━━\u001b[0m \u001b[32m290.4/290.4 kB\u001b[0m \u001b[31m5.1 MB/s\u001b[0m eta \u001b[36m0:00:00\u001b[0m\n",
            "\u001b[?25hRequirement already satisfied: typing_extensions>=4.0 in /usr/local/lib/python3.10/dist-packages (from pypdf) (4.12.2)\n",
            "Installing collected packages: pypdf\n",
            "Successfully installed pypdf-4.2.0\n",
            "Collecting openai\n",
            "  Downloading openai-1.34.0-py3-none-any.whl (325 kB)\n",
            "\u001b[2K     \u001b[90m━━━━━━━━━━━━━━━━━━━━━━━━━━━━━━━━━━━━━━━━\u001b[0m \u001b[32m325.5/325.5 kB\u001b[0m \u001b[31m6.3 MB/s\u001b[0m eta \u001b[36m0:00:00\u001b[0m\n",
            "\u001b[?25hRequirement already satisfied: anyio<5,>=3.5.0 in /usr/local/lib/python3.10/dist-packages (from openai) (3.7.1)\n",
            "Requirement already satisfied: distro<2,>=1.7.0 in /usr/lib/python3/dist-packages (from openai) (1.7.0)\n",
            "Collecting httpx<1,>=0.23.0 (from openai)\n",
            "  Downloading httpx-0.27.0-py3-none-any.whl (75 kB)\n",
            "\u001b[2K     \u001b[90m━━━━━━━━━━━━━━━━━━━━━━━━━━━━━━━━━━━━━━━━\u001b[0m \u001b[32m75.6/75.6 kB\u001b[0m \u001b[31m6.4 MB/s\u001b[0m eta \u001b[36m0:00:00\u001b[0m\n",
            "\u001b[?25hRequirement already satisfied: pydantic<3,>=1.9.0 in /usr/local/lib/python3.10/dist-packages (from openai) (2.7.3)\n",
            "Requirement already satisfied: sniffio in /usr/local/lib/python3.10/dist-packages (from openai) (1.3.1)\n",
            "Requirement already satisfied: tqdm>4 in /usr/local/lib/python3.10/dist-packages (from openai) (4.66.4)\n",
            "Requirement already satisfied: typing-extensions<5,>=4.7 in /usr/local/lib/python3.10/dist-packages (from openai) (4.12.2)\n",
            "Requirement already satisfied: idna>=2.8 in /usr/local/lib/python3.10/dist-packages (from anyio<5,>=3.5.0->openai) (3.7)\n",
            "Requirement already satisfied: exceptiongroup in /usr/local/lib/python3.10/dist-packages (from anyio<5,>=3.5.0->openai) (1.2.1)\n",
            "Requirement already satisfied: certifi in /usr/local/lib/python3.10/dist-packages (from httpx<1,>=0.23.0->openai) (2024.6.2)\n",
            "Collecting httpcore==1.* (from httpx<1,>=0.23.0->openai)\n",
            "  Downloading httpcore-1.0.5-py3-none-any.whl (77 kB)\n",
            "\u001b[2K     \u001b[90m━━━━━━━━━━━━━━━━━━━━━━━━━━━━━━━━━━━━━━━━\u001b[0m \u001b[32m77.9/77.9 kB\u001b[0m \u001b[31m6.8 MB/s\u001b[0m eta \u001b[36m0:00:00\u001b[0m\n",
            "\u001b[?25hCollecting h11<0.15,>=0.13 (from httpcore==1.*->httpx<1,>=0.23.0->openai)\n",
            "  Downloading h11-0.14.0-py3-none-any.whl (58 kB)\n",
            "\u001b[2K     \u001b[90m━━━━━━━━━━━━━━━━━━━━━━━━━━━━━━━━━━━━━━━━\u001b[0m \u001b[32m58.3/58.3 kB\u001b[0m \u001b[31m7.1 MB/s\u001b[0m eta \u001b[36m0:00:00\u001b[0m\n",
            "\u001b[?25hRequirement already satisfied: annotated-types>=0.4.0 in /usr/local/lib/python3.10/dist-packages (from pydantic<3,>=1.9.0->openai) (0.7.0)\n",
            "Requirement already satisfied: pydantic-core==2.18.4 in /usr/local/lib/python3.10/dist-packages (from pydantic<3,>=1.9.0->openai) (2.18.4)\n",
            "Installing collected packages: h11, httpcore, httpx, openai\n",
            "Successfully installed h11-0.14.0 httpcore-1.0.5 httpx-0.27.0 openai-1.34.0\n",
            "Collecting tiktoken\n",
            "  Downloading tiktoken-0.7.0-cp310-cp310-manylinux_2_17_x86_64.manylinux2014_x86_64.whl (1.1 MB)\n",
            "\u001b[2K     \u001b[90m━━━━━━━━━━━━━━━━━━━━━━━━━━━━━━━━━━━━━━━━\u001b[0m \u001b[32m1.1/1.1 MB\u001b[0m \u001b[31m10.0 MB/s\u001b[0m eta \u001b[36m0:00:00\u001b[0m\n",
            "\u001b[?25hRequirement already satisfied: regex>=2022.1.18 in /usr/local/lib/python3.10/dist-packages (from tiktoken) (2024.5.15)\n",
            "Requirement already satisfied: requests>=2.26.0 in /usr/local/lib/python3.10/dist-packages (from tiktoken) (2.31.0)\n",
            "Requirement already satisfied: charset-normalizer<4,>=2 in /usr/local/lib/python3.10/dist-packages (from requests>=2.26.0->tiktoken) (3.3.2)\n",
            "Requirement already satisfied: idna<4,>=2.5 in /usr/local/lib/python3.10/dist-packages (from requests>=2.26.0->tiktoken) (3.7)\n",
            "Requirement already satisfied: urllib3<3,>=1.21.1 in /usr/local/lib/python3.10/dist-packages (from requests>=2.26.0->tiktoken) (2.0.7)\n",
            "Requirement already satisfied: certifi>=2017.4.17 in /usr/local/lib/python3.10/dist-packages (from requests>=2.26.0->tiktoken) (2024.6.2)\n",
            "Installing collected packages: tiktoken\n",
            "Successfully installed tiktoken-0.7.0\n"
          ]
        }
      ],
      "source": [
        "!pip install langchain\n",
        "!pip install pinecone-client\n",
        "!pip install pypdf\n",
        "! pip install openai\n",
        "! pip install tiktoken"
      ]
    },
    {
      "cell_type": "code",
      "source": [
        "pip install -U langchain-community"
      ],
      "metadata": {
        "colab": {
          "base_uri": "https://localhost:8080/"
        },
        "id": "ObcPpeXrMCgf",
        "outputId": "88e8fe13-9833-40d4-8d15-e78a117e3831"
      },
      "execution_count": 3,
      "outputs": [
        {
          "output_type": "stream",
          "name": "stdout",
          "text": [
            "Collecting langchain-community\n",
            "  Downloading langchain_community-0.2.4-py3-none-any.whl (2.2 MB)\n",
            "\u001b[2K     \u001b[90m━━━━━━━━━━━━━━━━━━━━━━━━━━━━━━━━━━━━━━━━\u001b[0m \u001b[32m2.2/2.2 MB\u001b[0m \u001b[31m13.3 MB/s\u001b[0m eta \u001b[36m0:00:00\u001b[0m\n",
            "\u001b[?25hRequirement already satisfied: PyYAML>=5.3 in /usr/local/lib/python3.10/dist-packages (from langchain-community) (6.0.1)\n",
            "Requirement already satisfied: SQLAlchemy<3,>=1.4 in /usr/local/lib/python3.10/dist-packages (from langchain-community) (2.0.30)\n",
            "Requirement already satisfied: aiohttp<4.0.0,>=3.8.3 in /usr/local/lib/python3.10/dist-packages (from langchain-community) (3.9.5)\n",
            "Collecting dataclasses-json<0.7,>=0.5.7 (from langchain-community)\n",
            "  Downloading dataclasses_json-0.6.7-py3-none-any.whl (28 kB)\n",
            "Requirement already satisfied: langchain<0.3.0,>=0.2.0 in /usr/local/lib/python3.10/dist-packages (from langchain-community) (0.2.3)\n",
            "Requirement already satisfied: langchain-core<0.3.0,>=0.2.0 in /usr/local/lib/python3.10/dist-packages (from langchain-community) (0.2.5)\n",
            "Requirement already satisfied: langsmith<0.2.0,>=0.1.0 in /usr/local/lib/python3.10/dist-packages (from langchain-community) (0.1.77)\n",
            "Requirement already satisfied: numpy<2,>=1 in /usr/local/lib/python3.10/dist-packages (from langchain-community) (1.25.2)\n",
            "Requirement already satisfied: requests<3,>=2 in /usr/local/lib/python3.10/dist-packages (from langchain-community) (2.31.0)\n",
            "Requirement already satisfied: tenacity<9.0.0,>=8.1.0 in /usr/local/lib/python3.10/dist-packages (from langchain-community) (8.3.0)\n",
            "Requirement already satisfied: aiosignal>=1.1.2 in /usr/local/lib/python3.10/dist-packages (from aiohttp<4.0.0,>=3.8.3->langchain-community) (1.3.1)\n",
            "Requirement already satisfied: attrs>=17.3.0 in /usr/local/lib/python3.10/dist-packages (from aiohttp<4.0.0,>=3.8.3->langchain-community) (23.2.0)\n",
            "Requirement already satisfied: frozenlist>=1.1.1 in /usr/local/lib/python3.10/dist-packages (from aiohttp<4.0.0,>=3.8.3->langchain-community) (1.4.1)\n",
            "Requirement already satisfied: multidict<7.0,>=4.5 in /usr/local/lib/python3.10/dist-packages (from aiohttp<4.0.0,>=3.8.3->langchain-community) (6.0.5)\n",
            "Requirement already satisfied: yarl<2.0,>=1.0 in /usr/local/lib/python3.10/dist-packages (from aiohttp<4.0.0,>=3.8.3->langchain-community) (1.9.4)\n",
            "Requirement already satisfied: async-timeout<5.0,>=4.0 in /usr/local/lib/python3.10/dist-packages (from aiohttp<4.0.0,>=3.8.3->langchain-community) (4.0.3)\n",
            "Collecting marshmallow<4.0.0,>=3.18.0 (from dataclasses-json<0.7,>=0.5.7->langchain-community)\n",
            "  Downloading marshmallow-3.21.3-py3-none-any.whl (49 kB)\n",
            "\u001b[2K     \u001b[90m━━━━━━━━━━━━━━━━━━━━━━━━━━━━━━━━━━━━━━━━\u001b[0m \u001b[32m49.2/49.2 kB\u001b[0m \u001b[31m6.3 MB/s\u001b[0m eta \u001b[36m0:00:00\u001b[0m\n",
            "\u001b[?25hCollecting typing-inspect<1,>=0.4.0 (from dataclasses-json<0.7,>=0.5.7->langchain-community)\n",
            "  Downloading typing_inspect-0.9.0-py3-none-any.whl (8.8 kB)\n",
            "Requirement already satisfied: langchain-text-splitters<0.3.0,>=0.2.0 in /usr/local/lib/python3.10/dist-packages (from langchain<0.3.0,>=0.2.0->langchain-community) (0.2.1)\n",
            "Requirement already satisfied: pydantic<3,>=1 in /usr/local/lib/python3.10/dist-packages (from langchain<0.3.0,>=0.2.0->langchain-community) (2.7.3)\n",
            "Requirement already satisfied: jsonpatch<2.0,>=1.33 in /usr/local/lib/python3.10/dist-packages (from langchain-core<0.3.0,>=0.2.0->langchain-community) (1.33)\n",
            "Requirement already satisfied: packaging<24.0,>=23.2 in /usr/local/lib/python3.10/dist-packages (from langchain-core<0.3.0,>=0.2.0->langchain-community) (23.2)\n",
            "Requirement already satisfied: orjson<4.0.0,>=3.9.14 in /usr/local/lib/python3.10/dist-packages (from langsmith<0.2.0,>=0.1.0->langchain-community) (3.10.4)\n",
            "Requirement already satisfied: charset-normalizer<4,>=2 in /usr/local/lib/python3.10/dist-packages (from requests<3,>=2->langchain-community) (3.3.2)\n",
            "Requirement already satisfied: idna<4,>=2.5 in /usr/local/lib/python3.10/dist-packages (from requests<3,>=2->langchain-community) (3.7)\n",
            "Requirement already satisfied: urllib3<3,>=1.21.1 in /usr/local/lib/python3.10/dist-packages (from requests<3,>=2->langchain-community) (2.0.7)\n",
            "Requirement already satisfied: certifi>=2017.4.17 in /usr/local/lib/python3.10/dist-packages (from requests<3,>=2->langchain-community) (2024.6.2)\n",
            "Requirement already satisfied: typing-extensions>=4.6.0 in /usr/local/lib/python3.10/dist-packages (from SQLAlchemy<3,>=1.4->langchain-community) (4.12.2)\n",
            "Requirement already satisfied: greenlet!=0.4.17 in /usr/local/lib/python3.10/dist-packages (from SQLAlchemy<3,>=1.4->langchain-community) (3.0.3)\n",
            "Requirement already satisfied: jsonpointer>=1.9 in /usr/local/lib/python3.10/dist-packages (from jsonpatch<2.0,>=1.33->langchain-core<0.3.0,>=0.2.0->langchain-community) (3.0.0)\n",
            "Requirement already satisfied: annotated-types>=0.4.0 in /usr/local/lib/python3.10/dist-packages (from pydantic<3,>=1->langchain<0.3.0,>=0.2.0->langchain-community) (0.7.0)\n",
            "Requirement already satisfied: pydantic-core==2.18.4 in /usr/local/lib/python3.10/dist-packages (from pydantic<3,>=1->langchain<0.3.0,>=0.2.0->langchain-community) (2.18.4)\n",
            "Collecting mypy-extensions>=0.3.0 (from typing-inspect<1,>=0.4.0->dataclasses-json<0.7,>=0.5.7->langchain-community)\n",
            "  Downloading mypy_extensions-1.0.0-py3-none-any.whl (4.7 kB)\n",
            "Installing collected packages: mypy-extensions, marshmallow, typing-inspect, dataclasses-json, langchain-community\n",
            "Successfully installed dataclasses-json-0.6.7 langchain-community-0.2.4 marshmallow-3.21.3 mypy-extensions-1.0.0 typing-inspect-0.9.0\n"
          ]
        }
      ]
    },
    {
      "cell_type": "code",
      "source": [
        "from langchain.document_loaders import PyPDFDirectoryLoader\n",
        "from langchain.text_splitter import RecursiveCharacterTextSplitter\n",
        "from langchain.embeddings import OpenAIEmbeddings\n",
        "from langchain.llms import OpenAI\n",
        "from langchain.vectorstores import Pinecone\n",
        "from langchain.chains import RetrievalQA\n",
        "from langchain.prompts import PromptTemplate\n",
        "import os"
      ],
      "metadata": {
        "id": "E9Z6DnuCLovm"
      },
      "execution_count": 4,
      "outputs": []
    },
    {
      "cell_type": "code",
      "source": [
        "!mkdir pdfs"
      ],
      "metadata": {
        "colab": {
          "base_uri": "https://localhost:8080/"
        },
        "id": "V5gWnf0BL58N",
        "outputId": "f5600a7f-ff51-4e13-a860-7f7ef53f3186"
      },
      "execution_count": 11,
      "outputs": [
        {
          "output_type": "stream",
          "name": "stdout",
          "text": [
            "mkdir: cannot create directory ‘pdfs’: File exists\n"
          ]
        }
      ]
    },
    {
      "cell_type": "code",
      "source": [
        "loader=PyPDFDirectoryLoader(\"pdfs\")\n",
        "loader"
      ],
      "metadata": {
        "colab": {
          "base_uri": "https://localhost:8080/"
        },
        "id": "t6ktJNssMKoK",
        "outputId": "6b2fcf2f-6a6a-41ac-dd56-887d27d36291"
      },
      "execution_count": 12,
      "outputs": [
        {
          "output_type": "execute_result",
          "data": {
            "text/plain": [
              "<langchain_community.document_loaders.pdf.PyPDFDirectoryLoader at 0x78d1f09e6ad0>"
            ]
          },
          "metadata": {},
          "execution_count": 12
        }
      ]
    },
    {
      "cell_type": "code",
      "source": [
        "data=loader.load()\n",
        "data"
      ],
      "metadata": {
        "colab": {
          "base_uri": "https://localhost:8080/"
        },
        "id": "zG6g-Vs-MSHZ",
        "outputId": "a1cb0e70-3e0f-4b32-b7d0-eb1c5bc506cd"
      },
      "execution_count": 13,
      "outputs": [
        {
          "output_type": "execute_result",
          "data": {
            "text/plain": [
              "[Document(page_content='Solving Burger’s Equation By RK4\\nDeepak Singh\\nJune 2024\\n1 Introduction\\nThe Burgers’ equation is a fundamental partial differential equation from fluid\\nmechanics. It combines both nonlinear convection and diffusion, making it an\\nessential model for various physical phenomena. The equation can be written\\nas:\\nut+uux=νuxx,\\nwhere uis the velocity field, tis time, xis the spatial coordinate, and νis\\nthe viscosity coefficient.\\nTo solve this equation numerically using the Runge-Kutta method of fourth\\norder (RK4), we must first discretize the equation in both space and time. The\\nRK4 method is a popular technique for solving ordinary differential equations\\n(ODEs), and we can apply it to the time integration part of the discretized\\nPDE.\\n2 Steps for Solving Burgers’ Equation Using RK4\\n2.1 Spatial Discretization\\n•Divide the spatial domain into a grid with points xi=i∆xwhere i=\\n0,1,2, . . . , N and ∆ xis the spatial step size.\\n•Use finite difference approximations for the spatial derivatives. For exam-\\nple:\\n–The first derivative uxcan be approximated using central differences:\\nux≈ui+1−ui−1\\n2∆x.\\n–The second derivative uxxcan be approximated using central differ-\\nences:\\nuxx≈ui+1−2ui+ui−1\\n∆x2.\\n1', metadata={'source': 'pdfs/Assignment_flax_and_teal.pdf', 'page': 0}),\n",
              " Document(page_content='2.2 Time Discretization\\n•Let the time domain be divided into discrete steps tn=n∆twhere n=\\n0,1,2, . . .and ∆ tis the time step size.\\n•Use the RK4 method to update the solution in time.\\n3 RK4 Scheme for Burgers’ Equation\\nGiven the semi-discrete form of Burgers’ equation (discretized in space but not\\nyet in time):\\ndui\\ndt=−uiui+1−ui−1\\n2∆x+νui+1−2ui+ui−1\\n∆x2,\\nwe can define a function F(u, t) that represents the right-hand side of the\\nequation:\\nF(ui, t) =−uiui+1−ui−1\\n2∆x+νui+1−2ui+ui−1\\n∆x2.\\nNow, apply the RK4 method to this ODE:\\n3.1 Compute the slopes:\\nk1= ∆t F(un, tn),\\nk2= ∆t F(un+1\\n2k1, tn+1\\n2∆t),\\nk3= ∆t F(un+1\\n2k2, tn+1\\n2∆t),\\nk4= ∆t F(un+k3, tn+ ∆t).\\n3.2 Update the solution:\\nun+1=un+1\\n6(k1+ 2k2+ 2k3+k4).\\n4 Implementation Outline\\n1. Initialize the parameters and initial conditions.\\n2. Loop over time steps:\\n•Compute the spatial derivatives using finite difference methods.\\n•Calculate the slopes k1, k2, k3, k4.\\n•Update the solution using the RK4 formula.\\n3. Apply boundary conditions as necessary.\\n2', metadata={'source': 'pdfs/Assignment_flax_and_teal.pdf', 'page': 1}),\n",
              " Document(page_content='5 Summary\\nSolving the Burgers’ equation using the RK4 method involves discretizing the\\nspatial derivatives using finite difference methods and then integrating the re-\\nsulting system of ODEs using the RK4 scheme. This method is advantageous\\ndue to its higher accuracy and stability compared to lower-order methods, mak-\\ning it suitable for capturing the complex dynamics of Burgers’ equation.\\n6 Python Code\\nThe following Python code demonstrates the numerical solution of the Burgers’\\nequation using the RK4 method:\\nListing 1: Python Code for Solving Burgers’ Equation\\nimport numpy as np\\nn = 10 # Number of g r i d p o i n t s\\ny0 = np . cos (np . l i n s p a c e (0 , 2 ∗np . pi , n ))\\nt0 = 0 # i n i t i a l time\\ntend = 2 # f i n a l time\\nnu = 0.1 # V i s c o s i t y c o e f f i c i e n t\\n# Define the function f (y , t )\\ndef f (y , t , nu =0.1):\\nn = len(y)\\ndydt = np . z e r o s l i k e (y)\\n# Compute dy/ dt f o r each point using f i n i t e d i f f e r e n c e s\\nfor iin range (n ) :\\ni fi == 0:\\ndydt [ i ] = −y [ i ] ∗(y [ i +1] −y [ n−1]) / 2 + nu ∗(y [ n −1]−2∗y [ i ] + y [ i +1]) / (n −1)∗∗2\\ne l i f i == n −1:\\ndydt [ i ] = −y [ i ] ∗(y [ 0 ] −y [ i−1]) / 2 + nu ∗(y [ i −1]−2∗y [ i ] + y [ 0 ] ) / (n −1)∗∗2\\nelse :\\ndydt [ i ] = −y [ i ] ∗(y [ i +1] −y [ i−1]) / 2 + nu ∗(y [ i −1]−2∗y [ i ] + y [ i +1]) / (n −1)∗∗2\\nreturn dydt\\n# Run RK4 method\\ndef RK4( f , n , y0 , t0 , t end ) :\\ntv a l u e s = [ t0 ]\\nyvalues = [ y0 ]\\nt = t0\\ny = y0\\nh = ( t end −t0 ) / n # st ep s i z e\\n3', metadata={'source': 'pdfs/Assignment_flax_and_teal.pdf', 'page': 2}),\n",
              " Document(page_content='while t<tend :\\nk1 = f (y , t )\\nk2 = f (y + 0.5 ∗h∗k1 , t + 0.5 ∗h)\\nk3 = f (y + 0.5 ∗h∗k2 , t + 0.5 ∗h)\\nk4 = f (y + h ∗k3 , t + h)\\ny = y + (h / 6) ∗( k1 + 2 ∗k2 + 2 ∗k3 + k4 )\\nt = t + h\\ntv a l u e s . append ( t )\\nyvalues . append (y)\\nreturn np . array ( t v a l u e s ) , np . array ( y values )\\ntvalues , y values = RK4( f , n , y0 , t0 , t end )\\n7 Output\\nThe following output was obtained from running the above Python code:\\nAt t = 0 value of y is = [ 1. 0.76604444 0.17364818 -0.5 -0.93969262 -0.93969262\\n-0.5 0.17364818 0.76604444 1. ]\\nfor t= 0.2 value of y is = [ 1.01896957 0.83179839 0.19828195 -0.56055162 -0.9767954 -0.89507841\\n-0.44871143 0.15385997 0.70540544 0.97282155]\\nfor t= 0.4 value of y is = [ 1.02813156 0.9019579 0.2294544 -0.63219901 -1.00393829 -0.84584025\\n-0.40532041 0.13777068 0.65039073 0.9395927 ]\\nfor t= 0.6000000000000001 value of y is = [ 1.0263321 0.97492956 0.26952071 -0.71701407 -1.01865531 -0.79445568\\n-0.36852488 0.12450979 0.60092067 0.90243711]\\nfor t= 0.8 value of y is = [ 1.01317279 1.04818259 0.32185739 -0.81752954 -1.01882251 -0.74311209\\n-0.33721425 0.11344028 0.55667433 0.86335101]\\nfor t= 1.0 value of y is = [ 0.98913423 1.11804652 0.39137643 -0.93700851 -1.00281008 -0.69363051\\n-0.31044632 0.10409067 0.51719651 0.82405106]\\nfor t= 1.2 value of y is = [ 0.95560192 1.17952005 0.485344 -1.07997456 -0.96959634 -0.64743527\\n-0.28742668 0.09610806 0.48197561 0.78588322]\\nfor t= 1.4 value of y is = [ 0.91478965 1.22610241 0.61473165 -1.25325385 -0.91882513 -0.60556558\\n-0.26748945 0.08922538 0.45049654 0.74978839]\\nfor t= 1.5999999999999999 value of y is = [ 0.86957853 1.24966661 0.79657071 -1.46805224 -0.85078942 -0.56872015\\n-0.25007916 0.08323831 0.42227408 0.71631273]\\nfor t= 1.7999999999999998 value of y is = [ 0.8233109 1.24042811 1.05840659 -1.74426719 -0.76632747 -0.53732428\\n-0.23473413 0.07798882 0.39687169 0.68564696]\\n4', metadata={'source': 'pdfs/Assignment_flax_and_teal.pdf', 'page': 3}),\n",
              " Document(page_content='for t= 1.9999999999999998 value of y is = [ 0.77959231 1.18714043 1.44780212 -2.12016886 -0.66662805 -0.51160953\\n-0.22107119 0.07335332 0.37391008 0.65767937]\\n8 Conclusion\\nThis document demonstrates the solution of the Burgers’ equation using the\\nRK4 method implemented in Python. The results are presented as values of y\\nat different time steps, showing the evolution of the solution over time.\\n9 Appendix\\nHere, we include an image related to the topic for better visualization.\\nFigure 1: Plotting of solution corresponding to x and y .\\n5', metadata={'source': 'pdfs/Assignment_flax_and_teal.pdf', 'page': 4})]"
            ]
          },
          "metadata": {},
          "execution_count": 13
        }
      ]
    },
    {
      "cell_type": "code",
      "source": [
        "data[0]"
      ],
      "metadata": {
        "colab": {
          "base_uri": "https://localhost:8080/"
        },
        "id": "F577BHx6MUb1",
        "outputId": "bb2546e7-10ee-4720-dd39-bf3a62b0221d"
      },
      "execution_count": 14,
      "outputs": [
        {
          "output_type": "execute_result",
          "data": {
            "text/plain": [
              "Document(page_content='Solving Burger’s Equation By RK4\\nDeepak Singh\\nJune 2024\\n1 Introduction\\nThe Burgers’ equation is a fundamental partial differential equation from fluid\\nmechanics. It combines both nonlinear convection and diffusion, making it an\\nessential model for various physical phenomena. The equation can be written\\nas:\\nut+uux=νuxx,\\nwhere uis the velocity field, tis time, xis the spatial coordinate, and νis\\nthe viscosity coefficient.\\nTo solve this equation numerically using the Runge-Kutta method of fourth\\norder (RK4), we must first discretize the equation in both space and time. The\\nRK4 method is a popular technique for solving ordinary differential equations\\n(ODEs), and we can apply it to the time integration part of the discretized\\nPDE.\\n2 Steps for Solving Burgers’ Equation Using RK4\\n2.1 Spatial Discretization\\n•Divide the spatial domain into a grid with points xi=i∆xwhere i=\\n0,1,2, . . . , N and ∆ xis the spatial step size.\\n•Use finite difference approximations for the spatial derivatives. For exam-\\nple:\\n–The first derivative uxcan be approximated using central differences:\\nux≈ui+1−ui−1\\n2∆x.\\n–The second derivative uxxcan be approximated using central differ-\\nences:\\nuxx≈ui+1−2ui+ui−1\\n∆x2.\\n1', metadata={'source': 'pdfs/Assignment_flax_and_teal.pdf', 'page': 0})"
            ]
          },
          "metadata": {},
          "execution_count": 14
        }
      ]
    },
    {
      "cell_type": "code",
      "source": [
        "text_splitter = RecursiveCharacterTextSplitter(chunk_size=500, chunk_overlap=20) #chunk =word , whole pdf divided into chunk of 500 size"
      ],
      "metadata": {
        "id": "7XD2tbrkMfUm"
      },
      "execution_count": 15,
      "outputs": []
    },
    {
      "cell_type": "code",
      "source": [
        "text_chunks = text_splitter.split_documents(data)"
      ],
      "metadata": {
        "id": "S8j-ISAmQjO8"
      },
      "execution_count": 18,
      "outputs": []
    },
    {
      "cell_type": "code",
      "source": [
        "list(text_chunks)"
      ],
      "metadata": {
        "colab": {
          "base_uri": "https://localhost:8080/"
        },
        "id": "Rvboz0BCQnsn",
        "outputId": "bb401f5f-2834-4fe7-f353-91df5076b0ff"
      },
      "execution_count": 21,
      "outputs": [
        {
          "output_type": "execute_result",
          "data": {
            "text/plain": [
              "[Document(page_content='Solving Burger’s Equation By RK4\\nDeepak Singh\\nJune 2024\\n1 Introduction\\nThe Burgers’ equation is a fundamental partial differential equation from fluid\\nmechanics. It combines both nonlinear convection and diffusion, making it an\\nessential model for various physical phenomena. The equation can be written\\nas:\\nut+uux=νuxx,\\nwhere uis the velocity field, tis time, xis the spatial coordinate, and νis\\nthe viscosity coefficient.\\nTo solve this equation numerically using the Runge-Kutta method of fourth', metadata={'source': 'pdfs/Assignment_flax_and_teal.pdf', 'page': 0}),\n",
              " Document(page_content='order (RK4), we must first discretize the equation in both space and time. The\\nRK4 method is a popular technique for solving ordinary differential equations\\n(ODEs), and we can apply it to the time integration part of the discretized\\nPDE.\\n2 Steps for Solving Burgers’ Equation Using RK4\\n2.1 Spatial Discretization\\n•Divide the spatial domain into a grid with points xi=i∆xwhere i=\\n0,1,2, . . . , N and ∆ xis the spatial step size.', metadata={'source': 'pdfs/Assignment_flax_and_teal.pdf', 'page': 0}),\n",
              " Document(page_content='•Use finite difference approximations for the spatial derivatives. For exam-\\nple:\\n–The first derivative uxcan be approximated using central differences:\\nux≈ui+1−ui−1\\n2∆x.\\n–The second derivative uxxcan be approximated using central differ-\\nences:\\nuxx≈ui+1−2ui+ui−1\\n∆x2.\\n1', metadata={'source': 'pdfs/Assignment_flax_and_teal.pdf', 'page': 0}),\n",
              " Document(page_content='2.2 Time Discretization\\n•Let the time domain be divided into discrete steps tn=n∆twhere n=\\n0,1,2, . . .and ∆ tis the time step size.\\n•Use the RK4 method to update the solution in time.\\n3 RK4 Scheme for Burgers’ Equation\\nGiven the semi-discrete form of Burgers’ equation (discretized in space but not\\nyet in time):\\ndui\\ndt=−uiui+1−ui−1\\n2∆x+νui+1−2ui+ui−1\\n∆x2,\\nwe can define a function F(u, t) that represents the right-hand side of the\\nequation:\\nF(ui, t) =−uiui+1−ui−1\\n2∆x+νui+1−2ui+ui−1\\n∆x2.', metadata={'source': 'pdfs/Assignment_flax_and_teal.pdf', 'page': 1}),\n",
              " Document(page_content='∆x2.\\nNow, apply the RK4 method to this ODE:\\n3.1 Compute the slopes:\\nk1= ∆t F(un, tn),\\nk2= ∆t F(un+1\\n2k1, tn+1\\n2∆t),\\nk3= ∆t F(un+1\\n2k2, tn+1\\n2∆t),\\nk4= ∆t F(un+k3, tn+ ∆t).\\n3.2 Update the solution:\\nun+1=un+1\\n6(k1+ 2k2+ 2k3+k4).\\n4 Implementation Outline\\n1. Initialize the parameters and initial conditions.\\n2. Loop over time steps:\\n•Compute the spatial derivatives using finite difference methods.\\n•Calculate the slopes k1, k2, k3, k4.\\n•Update the solution using the RK4 formula.', metadata={'source': 'pdfs/Assignment_flax_and_teal.pdf', 'page': 1}),\n",
              " Document(page_content='3. Apply boundary conditions as necessary.\\n2', metadata={'source': 'pdfs/Assignment_flax_and_teal.pdf', 'page': 1}),\n",
              " Document(page_content='5 Summary\\nSolving the Burgers’ equation using the RK4 method involves discretizing the\\nspatial derivatives using finite difference methods and then integrating the re-\\nsulting system of ODEs using the RK4 scheme. This method is advantageous\\ndue to its higher accuracy and stability compared to lower-order methods, mak-\\ning it suitable for capturing the complex dynamics of Burgers’ equation.\\n6 Python Code\\nThe following Python code demonstrates the numerical solution of the Burgers’', metadata={'source': 'pdfs/Assignment_flax_and_teal.pdf', 'page': 2}),\n",
              " Document(page_content='equation using the RK4 method:\\nListing 1: Python Code for Solving Burgers’ Equation\\nimport numpy as np\\nn = 10 # Number of g r i d p o i n t s\\ny0 = np . cos (np . l i n s p a c e (0 , 2 ∗np . pi , n ))\\nt0 = 0 # i n i t i a l time\\ntend = 2 # f i n a l time\\nnu = 0.1 # V i s c o s i t y c o e f f i c i e n t\\n# Define the function f (y , t )\\ndef f (y , t , nu =0.1):\\nn = len(y)\\ndydt = np . z e r o s l i k e (y)\\n# Compute dy/ dt f o r each point using f i n i t e d i f f e r e n c e s', metadata={'source': 'pdfs/Assignment_flax_and_teal.pdf', 'page': 2}),\n",
              " Document(page_content='for iin range (n ) :\\ni fi == 0:\\ndydt [ i ] = −y [ i ] ∗(y [ i +1] −y [ n−1]) / 2 + nu ∗(y [ n −1]−2∗y [ i ] + y [ i +1]) / (n −1)∗∗2\\ne l i f i == n −1:\\ndydt [ i ] = −y [ i ] ∗(y [ 0 ] −y [ i−1]) / 2 + nu ∗(y [ i −1]−2∗y [ i ] + y [ 0 ] ) / (n −1)∗∗2\\nelse :\\ndydt [ i ] = −y [ i ] ∗(y [ i +1] −y [ i−1]) / 2 + nu ∗(y [ i −1]−2∗y [ i ] + y [ i +1]) / (n −1)∗∗2\\nreturn dydt\\n# Run RK4 method\\ndef RK4( f , n , y0 , t0 , t end ) :\\ntv a l u e s = [ t0 ]\\nyvalues = [ y0 ]\\nt = t0\\ny = y0', metadata={'source': 'pdfs/Assignment_flax_and_teal.pdf', 'page': 2}),\n",
              " Document(page_content='t = t0\\ny = y0\\nh = ( t end −t0 ) / n # st ep s i z e\\n3', metadata={'source': 'pdfs/Assignment_flax_and_teal.pdf', 'page': 2}),\n",
              " Document(page_content='while t<tend :\\nk1 = f (y , t )\\nk2 = f (y + 0.5 ∗h∗k1 , t + 0.5 ∗h)\\nk3 = f (y + 0.5 ∗h∗k2 , t + 0.5 ∗h)\\nk4 = f (y + h ∗k3 , t + h)\\ny = y + (h / 6) ∗( k1 + 2 ∗k2 + 2 ∗k3 + k4 )\\nt = t + h\\ntv a l u e s . append ( t )\\nyvalues . append (y)\\nreturn np . array ( t v a l u e s ) , np . array ( y values )\\ntvalues , y values = RK4( f , n , y0 , t0 , t end )\\n7 Output\\nThe following output was obtained from running the above Python code:', metadata={'source': 'pdfs/Assignment_flax_and_teal.pdf', 'page': 3}),\n",
              " Document(page_content='At t = 0 value of y is = [ 1. 0.76604444 0.17364818 -0.5 -0.93969262 -0.93969262\\n-0.5 0.17364818 0.76604444 1. ]\\nfor t= 0.2 value of y is = [ 1.01896957 0.83179839 0.19828195 -0.56055162 -0.9767954 -0.89507841\\n-0.44871143 0.15385997 0.70540544 0.97282155]\\nfor t= 0.4 value of y is = [ 1.02813156 0.9019579 0.2294544 -0.63219901 -1.00393829 -0.84584025\\n-0.40532041 0.13777068 0.65039073 0.9395927 ]', metadata={'source': 'pdfs/Assignment_flax_and_teal.pdf', 'page': 3}),\n",
              " Document(page_content='for t= 0.6000000000000001 value of y is = [ 1.0263321 0.97492956 0.26952071 -0.71701407 -1.01865531 -0.79445568\\n-0.36852488 0.12450979 0.60092067 0.90243711]\\nfor t= 0.8 value of y is = [ 1.01317279 1.04818259 0.32185739 -0.81752954 -1.01882251 -0.74311209\\n-0.33721425 0.11344028 0.55667433 0.86335101]\\nfor t= 1.0 value of y is = [ 0.98913423 1.11804652 0.39137643 -0.93700851 -1.00281008 -0.69363051\\n-0.31044632 0.10409067 0.51719651 0.82405106]', metadata={'source': 'pdfs/Assignment_flax_and_teal.pdf', 'page': 3}),\n",
              " Document(page_content='for t= 1.2 value of y is = [ 0.95560192 1.17952005 0.485344 -1.07997456 -0.96959634 -0.64743527\\n-0.28742668 0.09610806 0.48197561 0.78588322]\\nfor t= 1.4 value of y is = [ 0.91478965 1.22610241 0.61473165 -1.25325385 -0.91882513 -0.60556558\\n-0.26748945 0.08922538 0.45049654 0.74978839]\\nfor t= 1.5999999999999999 value of y is = [ 0.86957853 1.24966661 0.79657071 -1.46805224 -0.85078942 -0.56872015\\n-0.25007916 0.08323831 0.42227408 0.71631273]', metadata={'source': 'pdfs/Assignment_flax_and_teal.pdf', 'page': 3}),\n",
              " Document(page_content='for t= 1.7999999999999998 value of y is = [ 0.8233109 1.24042811 1.05840659 -1.74426719 -0.76632747 -0.53732428\\n-0.23473413 0.07798882 0.39687169 0.68564696]\\n4', metadata={'source': 'pdfs/Assignment_flax_and_teal.pdf', 'page': 3}),\n",
              " Document(page_content='for t= 1.9999999999999998 value of y is = [ 0.77959231 1.18714043 1.44780212 -2.12016886 -0.66662805 -0.51160953\\n-0.22107119 0.07335332 0.37391008 0.65767937]\\n8 Conclusion\\nThis document demonstrates the solution of the Burgers’ equation using the\\nRK4 method implemented in Python. The results are presented as values of y\\nat different time steps, showing the evolution of the solution over time.\\n9 Appendix\\nHere, we include an image related to the topic for better visualization.', metadata={'source': 'pdfs/Assignment_flax_and_teal.pdf', 'page': 4}),\n",
              " Document(page_content='Figure 1: Plotting of solution corresponding to x and y .\\n5', metadata={'source': 'pdfs/Assignment_flax_and_teal.pdf', 'page': 4})]"
            ]
          },
          "metadata": {},
          "execution_count": 21
        }
      ]
    },
    {
      "cell_type": "code",
      "source": [
        "len(text_chunks)"
      ],
      "metadata": {
        "colab": {
          "base_uri": "https://localhost:8080/"
        },
        "id": "3ZJopd2zQyP9",
        "outputId": "a20c3e64-e7c7-4e32-e902-af81be445fbe"
      },
      "execution_count": 20,
      "outputs": [
        {
          "output_type": "execute_result",
          "data": {
            "text/plain": [
              "17"
            ]
          },
          "metadata": {},
          "execution_count": 20
        }
      ]
    },
    {
      "cell_type": "code",
      "source": [
        "print(text_chunks[0].page_content)"
      ],
      "metadata": {
        "colab": {
          "base_uri": "https://localhost:8080/"
        },
        "id": "EjeD1jEEQ65w",
        "outputId": "b1435bcc-07e1-4c27-8e01-01d6ba9bc28e"
      },
      "execution_count": 22,
      "outputs": [
        {
          "output_type": "stream",
          "name": "stdout",
          "text": [
            "Solving Burger’s Equation By RK4\n",
            "Deepak Singh\n",
            "June 2024\n",
            "1 Introduction\n",
            "The Burgers’ equation is a fundamental partial differential equation from fluid\n",
            "mechanics. It combines both nonlinear convection and diffusion, making it an\n",
            "essential model for various physical phenomena. The equation can be written\n",
            "as:\n",
            "ut+uux=νuxx,\n",
            "where uis the velocity field, tis time, xis the spatial coordinate, and νis\n",
            "the viscosity coefficient.\n",
            "To solve this equation numerically using the Runge-Kutta method of fourth\n"
          ]
        }
      ]
    },
    {
      "cell_type": "code",
      "source": [
        "print(text_chunks[1].page_content)"
      ],
      "metadata": {
        "colab": {
          "base_uri": "https://localhost:8080/"
        },
        "id": "68wZ8NsBRLHh",
        "outputId": "e7069373-32e8-475f-909b-9d7d9c776167"
      },
      "execution_count": 23,
      "outputs": [
        {
          "output_type": "stream",
          "name": "stdout",
          "text": [
            "order (RK4), we must first discretize the equation in both space and time. The\n",
            "RK4 method is a popular technique for solving ordinary differential equations\n",
            "(ODEs), and we can apply it to the time integration part of the discretized\n",
            "PDE.\n",
            "2 Steps for Solving Burgers’ Equation Using RK4\n",
            "2.1 Spatial Discretization\n",
            "•Divide the spatial domain into a grid with points xi=i∆xwhere i=\n",
            "0,1,2, . . . , N and ∆ xis the spatial step size.\n"
          ]
        }
      ]
    },
    {
      "cell_type": "code",
      "source": [
        "print(text_chunks[16].page_content)"
      ],
      "metadata": {
        "colab": {
          "base_uri": "https://localhost:8080/"
        },
        "id": "DDoSUTzDRUpH",
        "outputId": "c5ac21e8-5232-4925-9682-4862a21d2220"
      },
      "execution_count": 25,
      "outputs": [
        {
          "output_type": "stream",
          "name": "stdout",
          "text": [
            "Figure 1: Plotting of solution corresponding to x and y .\n",
            "5\n"
          ]
        }
      ]
    },
    {
      "cell_type": "code",
      "source": [
        "import os\n",
        "os.environ[\"OPENAI_API_KEY\"]=\"ergegtu fgre5trewfwr\""
      ],
      "metadata": {
        "id": "DkNcFOGsRZKx"
      },
      "execution_count": 36,
      "outputs": []
    },
    {
      "cell_type": "code",
      "source": [
        "embedding=OpenAIEmbeddings()"
      ],
      "metadata": {
        "id": "HG2ecF55RegU"
      },
      "execution_count": 37,
      "outputs": []
    },
    {
      "cell_type": "code",
      "source": [
        "len(embedding.embed_query(\"How are you\")) #HERE features are around 1536 but in word2vec is 300"
      ],
      "metadata": {
        "id": "DgD9sxjaRgHC"
      },
      "execution_count": 40,
      "outputs": []
    },
    {
      "cell_type": "code",
      "source": [
        "len(embedding.embed_query(\"hi i am fine\"))"
      ],
      "metadata": {
        "id": "YmmuLkndRxMz"
      },
      "execution_count": null,
      "outputs": []
    },
    {
      "cell_type": "code",
      "source": [
        "PINECONE_API_KEY = os.environ.get('PINECONE_API_KEY', 'fggr tgethedfrterfw eq3qd')\n",
        "PINECONE_API_ENV = os.environ.get('PINECONE_API_ENV', 'gdrwvd dfer')"
      ],
      "metadata": {
        "id": "rJKFyySDR3aI"
      },
      "execution_count": 41,
      "outputs": []
    },
    {
      "cell_type": "code",
      "source": [
        "import pinecone"
      ],
      "metadata": {
        "id": "zat9flOhR5gX"
      },
      "execution_count": 42,
      "outputs": []
    },
    {
      "cell_type": "code",
      "source": [
        "pinecone.init( api_key=PINECONE_API_KEY,  # find at app.pinecone.io\n",
        "     environment=PINECONE_API_ENV  # next to api key in console\n",
        ")"
      ],
      "metadata": {
        "colab": {
          "base_uri": "https://localhost:8080/",
          "height": 53
        },
        "id": "TO9Ys57UR68L",
        "outputId": "936f198e-25c1-41f6-b056-7a6fdbc0486d"
      },
      "execution_count": 44,
      "outputs": [
        {
          "output_type": "execute_result",
          "data": {
            "text/plain": [
              "'pinecone.init( api_key=PINECONE_API_KEY,  # find at app.pinecone.io\\n     environment=PINECONE_API_ENV  # next to api key in console\\n)'"
            ],
            "application/vnd.google.colaboratory.intrinsic+json": {
              "type": "string"
            }
          },
          "metadata": {},
          "execution_count": 44
        }
      ]
    },
    {
      "cell_type": "code",
      "source": [
        "index_name = \"testing\" # put in the name of your pinecone index here"
      ],
      "metadata": {
        "id": "BAeSiyk1R8-A"
      },
      "execution_count": null,
      "outputs": []
    },
    {
      "cell_type": "code",
      "source": [
        "index = pinecone.Index('testing')\n"
      ],
      "metadata": {
        "id": "X7ooGEzHSPKu"
      },
      "execution_count": 46,
      "outputs": []
    },
    {
      "cell_type": "markdown",
      "source": [
        "## Create Embeddings for each of the Text Chunk"
      ],
      "metadata": {
        "id": "GNRGTSnISUrD"
      }
    },
    {
      "cell_type": "code",
      "source": [
        "docsearch = Pinecone.from_texts([t.page_content for t in text_chunks], embedding, index_name=index_name)"
      ],
      "metadata": {
        "id": "rXnvGpl5SYMb"
      },
      "execution_count": 48,
      "outputs": []
    },
    {
      "cell_type": "code",
      "source": [
        "docsearch"
      ],
      "metadata": {
        "id": "hdFnY379SdUD"
      },
      "execution_count": null,
      "outputs": []
    },
    {
      "cell_type": "code",
      "source": [
        "docsearch.as_retriever()"
      ],
      "metadata": {
        "id": "CqgxbqxlSe2B"
      },
      "execution_count": null,
      "outputs": []
    },
    {
      "cell_type": "code",
      "source": [
        "query= \"YOLOv7 outperforms which models\""
      ],
      "metadata": {
        "id": "FTBw6OKpSgtf"
      },
      "execution_count": null,
      "outputs": []
    },
    {
      "cell_type": "code",
      "source": [
        "docs = docsearch.similarity_search(query) #we can see it on pinecone website also"
      ],
      "metadata": {
        "id": "2slxdc_YSl3O"
      },
      "execution_count": null,
      "outputs": []
    },
    {
      "cell_type": "code",
      "source": [
        "docs"
      ],
      "metadata": {
        "id": "TNt9372fSnkp"
      },
      "execution_count": null,
      "outputs": []
    },
    {
      "cell_type": "code",
      "source": [
        "llm = OpenAI()"
      ],
      "metadata": {
        "id": "yt0z291CSpdN"
      },
      "execution_count": null,
      "outputs": []
    },
    {
      "cell_type": "code",
      "source": [
        "qa = RetrievalQA.from_chain_type(llm=llm, chain_type=\"stuff\", retriever=docsearch.as_retriever())\n"
      ],
      "metadata": {
        "id": "1v_IcmfMSrBH"
      },
      "execution_count": null,
      "outputs": []
    },
    {
      "cell_type": "code",
      "source": [
        "query = \"YOLOv7 outperforms which models\""
      ],
      "metadata": {
        "id": "CdLH0LAySsaz"
      },
      "execution_count": null,
      "outputs": []
    },
    {
      "cell_type": "code",
      "source": [
        "qa.run(query)"
      ],
      "metadata": {
        "id": "5Z4DYcXgSt_i"
      },
      "execution_count": null,
      "outputs": []
    },
    {
      "cell_type": "code",
      "source": [
        "import sys\n",
        "while True:\n",
        "  user_input = input(f\"Input Prompt: \")\n",
        "  if user_input == 'exit':\n",
        "    print('Exiting')\n",
        "    sys.exit()\n",
        "  if user_input == '':\n",
        "    continue\n",
        "  result = qa({'query': user_input})\n",
        "  print(f\"Answer: {result['result']}\")"
      ],
      "metadata": {
        "colab": {
          "base_uri": "https://localhost:8080/",
          "height": 70
        },
        "id": "D0CNDBIaSv7M",
        "outputId": "0911fe94-a51c-4952-e70b-2e892dd71c17"
      },
      "execution_count": 51,
      "outputs": [
        {
          "output_type": "execute_result",
          "data": {
            "text/plain": [
              "'import sys\\nwhile True:\\n  user_input = input(f\"Input Prompt: \")\\n  if user_input == \\'exit\\':\\n    print(\\'Exiting\\')\\n    sys.exit()\\n  if user_input == \\'\\':\\n    continue\\n  result = qa({\\'query\\': user_input})\\n  print(f\"Answer: {result[\\'result\\']}\")'"
            ],
            "application/vnd.google.colaboratory.intrinsic+json": {
              "type": "string"
            }
          },
          "metadata": {},
          "execution_count": 51
        }
      ]
    },
    {
      "cell_type": "code",
      "source": [
        "#summary/review is at 16:50:00 youtube video"
      ],
      "metadata": {
        "id": "YblGsIjrafl6"
      },
      "execution_count": 52,
      "outputs": []
    },
    {
      "cell_type": "code",
      "source": [],
      "metadata": {
        "id": "pAYmYX4ja74Q"
      },
      "execution_count": null,
      "outputs": []
    }
  ]
}